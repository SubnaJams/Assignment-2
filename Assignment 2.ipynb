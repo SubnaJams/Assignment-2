{
 "cells": [
  {
   "cell_type": "markdown",
   "metadata": {},
   "source": [
    "1) <b>Modify the first item(22) of a list inside a following tuple to 222</b>\n",
    "\n",
    "   tuple1=( 11 , [ 22 , 33 ] , 44 , 55 )"
   ]
  },
  {
   "cell_type": "code",
   "execution_count": 116,
   "metadata": {},
   "outputs": [
    {
     "name": "stdout",
     "output_type": "stream",
     "text": [
      "(11, [222, 33], 44, 55)\n"
     ]
    }
   ],
   "source": [
    "tuple1=(11,[22,33],44,55) #creating a tuple.\n",
    "tuple1[1][0]=222 #replacing list item 22 by 222\n",
    "print(tuple1) #printing the modified tuple\n",
    "        \n",
    "        \n",
    "        \n",
    "    "
   ]
  },
  {
   "cell_type": "markdown",
   "metadata": {},
   "source": [
    "2) <b>Count the no of occurences of item 50 from a tuple</b>\n",
    "\n",
    "   tuple1=( 50 , 10 , 60 , 70 , 50 )"
   ]
  },
  {
   "cell_type": "code",
   "execution_count": 120,
   "metadata": {},
   "outputs": [
    {
     "name": "stdout",
     "output_type": "stream",
     "text": [
      "2\n"
     ]
    }
   ],
   "source": [
    "tuple1=(50,10,60,70,50)#creating a tuple\n",
    "\n",
    "count=0 #initializing count to 0\n",
    "\n",
    "for i in tuple1: #iterating tuple\n",
    "    \n",
    "    if(i==50): #checking wheather the item is 50 \n",
    "        \n",
    "        count=count+1  #counting \n",
    "\n",
    "print(count) #printing the no of occurence.\n",
    "        \n",
    "    "
   ]
  },
  {
   "cell_type": "markdown",
   "metadata": {},
   "source": [
    "3) <b>Write a python program to convert a list to tuple</b>"
   ]
  },
  {
   "cell_type": "code",
   "execution_count": 121,
   "metadata": {},
   "outputs": [
    {
     "name": "stdout",
     "output_type": "stream",
     "text": [
      "(1, 2, 3, 4)\n"
     ]
    }
   ],
   "source": [
    "list1=[1,2,3,4] #creating a list\n",
    "\n",
    "tuple1=tuple(list1) #converting the list to tuple\n",
    "\n",
    "print(tuple1) #printing tuple\n",
    "\n"
   ]
  },
  {
   "cell_type": "markdown",
   "metadata": {},
   "source": [
    "4) <b>Returns a new set with all items from both sets by removing duplicates</b> \n",
    "\n",
    " set1={ 10 , 20 , 30 , 40 , 50 }\n",
    " \n",
    " set2={ 30 , 40 , 50 , 60 , 70 }\n",
    " \n",
    " "
   ]
  },
  {
   "cell_type": "code",
   "execution_count": 71,
   "metadata": {},
   "outputs": [
    {
     "name": "stdout",
     "output_type": "stream",
     "text": [
      "{70, 40, 10, 50, 20, 60, 30}\n"
     ]
    }
   ],
   "source": [
    "set1={10,20,30,40,50} #creating set1\n",
    "set2={30,40,50,60,70} #creating set2\n",
    "print(set1.union(set2))#merging created sets\n"
   ]
  },
  {
   "cell_type": "markdown",
   "metadata": {},
   "source": [
    "5) <b>Merge the following python dictionaries into one</b>\n",
    "\n",
    " dict1 = { 'ten' : 10, 'twenty' : 20, 'thirty' : 30 }\n",
    " \n",
    " dict2= { 'thirty' : 30, 'fourty' : 40 , 'fifty' : 50 }"
   ]
  },
  {
   "cell_type": "code",
   "execution_count": 80,
   "metadata": {},
   "outputs": [
    {
     "name": "stdout",
     "output_type": "stream",
     "text": [
      "{'ten': 10, 'twenty': 20, 'thirty': 30, 'fourty': 40, 'fifty': 50}\n"
     ]
    }
   ],
   "source": [
    "dict1 = {'ten':10, 'twenty':20,'thirty':30}#creating dictionary\n",
    "dict2= {'thirty':30,'fourty':40,'fifty':50}\n",
    "dict3= dict1.copy() #copying elements of dict1 to newly created dict3\n",
    "dict3.update(dict2) #updating dict3 with elements from dict2\n",
    "print(dict3) #printing dict3\n"
   ]
  },
  {
   "cell_type": "markdown",
   "metadata": {},
   "source": [
    "6) <b> Given a python dictionary , change Brad's salary to 8500</b>\n",
    "   \n",
    "   sampleDict  =  {\n",
    "  \n",
    "   'emp1' : { 'name' : 'john' , 'salary' : 7500 }\n",
    "   \n",
    "   'emp2' : { 'name' : 'Emma' , 'salary' : 8000 }\n",
    "    \n",
    "   'emp3' : { 'name' : 'Brad' , 'salary' : 6500 }\n",
    "   \n",
    "   }\n",
    "   "
   ]
  },
  {
   "cell_type": "code",
   "execution_count": 123,
   "metadata": {},
   "outputs": [
    {
     "name": "stdout",
     "output_type": "stream",
     "text": [
      "{'emp1': {'name': 'john', 'salary': 7500}, 'emp2': {'name': 'Emma', 'salary': 8000}, 'emp3': {'name': 'Brad', 'salary': 8500}}\n"
     ]
    }
   ],
   "source": [
    "#creating a nested dictionary.\n",
    "sampleDict={\n",
    "    'emp1' : { 'name' : 'john' , 'salary' : 7500 },\n",
    "    'emp2' : { 'name' : 'Emma' , 'salary' : 8000 },\n",
    "    'emp3' : { 'name' : 'Brad' , 'salary' : 6500 }\n",
    "}\n",
    "sampleDict['emp3']['salary']=8500 #changing Brad's salary\n",
    "print(sampleDict)#printing dictionary\n",
    "\n",
    "    \n",
    "    "
   ]
  },
  {
   "cell_type": "markdown",
   "metadata": {},
   "source": [
    "7) <b> Rename key city to location in the following dictionary</b>\n",
    "\n",
    "   sampleDict = {\n",
    "   \n",
    "      \"name\" : \"kelly\",\n",
    "      \n",
    "      \"age\" : 25,\n",
    "      \n",
    "      \"salary\" : 8000,\n",
    "      \n",
    "      \"city\" : \"New York\"\n",
    "      \n",
    "     }\n",
    "     \n",
    "      \n",
    "      "
   ]
  },
  {
   "cell_type": "code",
   "execution_count": 115,
   "metadata": {},
   "outputs": [
    {
     "name": "stdout",
     "output_type": "stream",
     "text": [
      "{'name': 'kelly', 'age': 25, 'salary': 8000, 'location': 'New York'}\n"
     ]
    }
   ],
   "source": [
    "#creating a nested dictionary.\n",
    "sampleDict={\n",
    "    \"name\":\"kelly\",\n",
    "    \"age\":25,\n",
    "    \"salary\":8000,\n",
    "    \"city\":\"New York\"\n",
    "    }\n",
    "sampleDict['location']=sampleDict.pop('city') #Renaming city to location.\n",
    "print(sampleDict) #printing dictionary"
   ]
  }
 ],
 "metadata": {
  "kernelspec": {
   "display_name": "Python 3",
   "language": "python",
   "name": "python3"
  },
  "language_info": {
   "codemirror_mode": {
    "name": "ipython",
    "version": 3
   },
   "file_extension": ".py",
   "mimetype": "text/x-python",
   "name": "python",
   "nbconvert_exporter": "python",
   "pygments_lexer": "ipython3",
   "version": "3.8.3"
  }
 },
 "nbformat": 4,
 "nbformat_minor": 4
}
